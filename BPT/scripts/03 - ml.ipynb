{
 "cells": [
  {
   "cell_type": "markdown",
   "id": "8d5a645c",
   "metadata": {},
   "source": [
    "# CONSTANTS"
   ]
  },
  {
   "cell_type": "markdown",
   "id": "cd8db7eb",
   "metadata": {},
   "source": [
    "**RANDOM_STATE** is a constant that is typically used to initialize the random number generator in a library or algorithm that uses randomness in some aspect of its operation. This means that when the RANDOM_STATE is fixed to a certain value, the algorithm will generate the same random results every time it is run, which can be useful for reproducing results and ensuring result consistency."
   ]
  },
  {
   "cell_type": "code",
   "execution_count": null,
   "id": "f3b859eb",
   "metadata": {},
   "outputs": [],
   "source": [
    "RANDOM_STATE = 0"
   ]
  },
  {
   "cell_type": "markdown",
   "id": "6f6bdccf",
   "metadata": {},
   "source": [
    "# LIBRARIES"
   ]
  },
  {
   "cell_type": "code",
   "execution_count": null,
   "id": "e10fde4d",
   "metadata": {},
   "outputs": [],
   "source": [
    "import pandas as pd\n",
    "import warnings\n",
    "\n",
    "from imblearn.over_sampling import BorderlineSMOTE\n",
    "from imblearn.pipeline import make_pipeline\n",
    "from joblib import dump\n",
    "from sklearn.ensemble import RandomForestClassifier\n",
    "from sklearn.linear_model import LogisticRegression\n",
    "from sklearn.model_selection import RepeatedStratifiedKFold\n",
    "from sklearn.neural_network import MLPClassifier\n",
    "from sklearn.preprocessing import MinMaxScaler\n",
    "from sklearn.svm import SVC\n",
    "from skopt import BayesSearchCV\n",
    "from skopt.space import Real, Categorical, Integer\n",
    "\n",
    "warnings.filterwarnings('ignore')\n",
    "warnings.simplefilter(action='ignore', category=FutureWarning)"
   ]
  },
  {
   "cell_type": "markdown",
   "id": "d962d51f",
   "metadata": {},
   "source": [
    "# READ FILES"
   ]
  },
  {
   "cell_type": "code",
   "execution_count": null,
   "id": "8a7d5412",
   "metadata": {},
   "outputs": [],
   "source": [
    "# Read the training data from the CSV files\n",
    "X_train = pd.read_csv('../dataset/X_train.csv', usecols=lambda col: col not in ['TRACK', 'TRUST'], index_col=0)\n",
    "y_train = pd.read_csv('../dataset/y_train.csv', index_col=0)"
   ]
  },
  {
   "cell_type": "markdown",
   "id": "d330a197",
   "metadata": {},
   "source": [
    "# MODELING"
   ]
  },
  {
   "cell_type": "markdown",
   "id": "90d7fb88",
   "metadata": {},
   "source": [
    "## - ML Models "
   ]
  },
  {
   "cell_type": "markdown",
   "id": "1a189c62",
   "metadata": {},
   "source": [
    "Creates a machine learning pipeline that either scales input features and applies a given model or directly applies the given model\n",
    "\n",
    "- MinMaxScaler: works by subtracting the minimum value in the feature from each observation, and then dividing the result by the range (i.e., the maximum value minus the minimum value). This process ensures that the values in the feature are transformed to a range between 0 and 1.\n",
    "- BorderlineSMOTE: is an extension of the SMOTE algorithm, which is commonly used for addressing the class imbalance problem in machine learning."
   ]
  },
  {
   "cell_type": "code",
   "execution_count": null,
   "id": "087c1ec1",
   "metadata": {},
   "outputs": [],
   "source": [
    "def create_pipeline(model):\n",
    "    # Create a pipeline with preprocessing steps and a model\n",
    "    pipeline = make_pipeline(\n",
    "        MinMaxScaler(),  # Apply MinMaxScaler for feature scaling\n",
    "        BorderlineSMOTE(random_state=RANDOM_STATE),  # Apply BorderlineSMOTE for oversampling\n",
    "        model  # The specified model\n",
    "    )\n",
    "    \n",
    "    # Return the created pipeline\n",
    "    return pipeline"
   ]
  },
  {
   "cell_type": "markdown",
   "id": "d3da571b",
   "metadata": {},
   "source": [
    "We will explore several classification models in this analysis:"
   ]
  },
  {
   "cell_type": "code",
   "execution_count": null,
   "id": "814169d4",
   "metadata": {},
   "outputs": [],
   "source": [
    "models = {\n",
    "    'SVM': create_pipeline(SVC(probability=True,random_state=RANDOM_STATE)),\n",
    "    'RF': create_pipeline(RandomForestClassifier(random_state=RANDOM_STATE)),\n",
    "    'LR': create_pipeline(LogisticRegression(random_state=RANDOM_STATE)),\n",
    "    'MLP': create_pipeline(MLPClassifier(random_state=RANDOM_STATE)),\n",
    "    'KNN': create_pipeline(KNeighborsClassifier()),\n",
    "}"
   ]
  },
  {
   "cell_type": "markdown",
   "id": "5f5792a4",
   "metadata": {},
   "source": [
    "For each model, we define a search space for its hyperparameters:"
   ]
  },
  {
   "cell_type": "code",
   "execution_count": null,
   "id": "c7e3b3e0",
   "metadata": {},
   "outputs": [],
   "source": [
    "space = {\n",
    "    \n",
    "    'SVM': {\n",
    "        'svc__C': Real(1e-2,1e+2),\n",
    "        'svc__gamma': Real(1e-4,1e+1),\n",
    "        'svc__kernel': Categorical(['linear','rbf','poly','sigmoid']),\n",
    "        'svc__degree': Integer(1,5),\n",
    "        'svc__coef0': Real(0,1),\n",
    "        'svc__shrinking': Categorical([True,False]),\n",
    "        'svc__class_weight': Categorical([None,'balanced']),\n",
    "        'svc__max_iter': Integer(100,5000),\n",
    "        'svc__tol': Real(1e-6,1e-2)\n",
    "    },\n",
    "    'RF': {\n",
    "        'randomforestclassifier__n_estimators': Integer(200,800),\n",
    "        'randomforestclassifier__criterion': Categorical(['gini','entropy']),\n",
    "        'randomforestclassifier__max_depth': Integer(2,10),\n",
    "        'randomforestclassifier__min_samples_split': Integer(2,10),\n",
    "        'randomforestclassifier__min_samples_leaf': Integer(1,10),\n",
    "        'randomforestclassifier__max_features': Categorical(['sqrt','log2']),\n",
    "        'randomforestclassifier__class_weight': Categorical(['balanced','balanced_subsample'])\n",
    "    },\n",
    "    'LR': {\n",
    "        'logisticregression__C': Real(1e-2,1e+2),\n",
    "        'logisticregression__max_iter' : Integer(100,1000),\n",
    "        'logisticregression__solver': Categorical(['newton-cg','lbfgs','liblinear','sag','saga']),\n",
    "        'logisticregression__fit_intercept': Categorical([True,False]),\n",
    "        'logisticregression__class_weight': Categorical(['balanced',None]),     \n",
    "        'logisticregression__l1_ratio': Real(0,1)\n",
    "    },\n",
    "    'MLP': {\n",
    "        'mlpclassifier__hidden_layer_sizes': Integer(2,16),\n",
    "        'mlpclassifier__activation': Categorical(['logistic','tanh','relu']), \n",
    "        'mlpclassifier__max_iter' : Integer(1000,5000),\n",
    "        'mlpclassifier__alpha': Real(1e-3,1e0),\n",
    "        'mlpclassifier__learning_rate': Categorical(['constant','adaptive']),\n",
    "        'mlpclassifier__learning_rate_init': Real(1e-4,1e-1),     \n",
    "        'mlpclassifier__momentum': Real(0.1,0.9),\n",
    "        'mlpclassifier__early_stopping': Categorical([True,False]),\n",
    "        'mlpclassifier__validation_fraction': Real(0.1,0.3),\n",
    "        'mlpclassifier__beta_1': Real(0.8,0.99),\n",
    "        'mlpclassifier__beta_2': Real(0.8,0.99),\n",
    "        'mlpclassifier__epsilon': Real(1e-8,1e-6)\n",
    "    }\n",
    "}\n",
    "\n",
    "for key in space:\n",
    "    space[key]['borderlinesmote__sampling_strategy'] = Real(0.85,1.0)\n",
    "    space[key]['borderlinesmote__k_neighbors'] = Integer(1,10)\n",
    "    space[key]['borderlinesmote__m_neighbors'] = Integer(1,10)"
   ]
  },
  {
   "cell_type": "markdown",
   "id": "7bfe269a",
   "metadata": {},
   "source": [
    "We instantiate a BayesSearchCV object that optimizes the hyperparameters of that specific model"
   ]
  },
  {
   "cell_type": "code",
   "execution_count": null,
   "id": "24c9433b",
   "metadata": {},
   "outputs": [],
   "source": [
    "# Create an empty dictionary to store the optimized models\n",
    "opt = {}\n",
    "\n",
    "# Iterate over each item in the 'models' dictionary\n",
    "for model_name, model in models.items():\n",
    "    # Create a BayesSearchCV object for hyperparameter optimization\n",
    "    # using the specified model, search space, and other parameters\n",
    "    opt[model_name] = BayesSearchCV(\n",
    "        model,  # The model to optimize\n",
    "        space[model_name],  # The search space for hyperparameters\n",
    "        n_iter=20,  # Number of parameter settings that are sampled\n",
    "        cv=RepeatedStratifiedKFold(random_state=RANDOM_STATE),  # Cross-validation strategy\n",
    "        random_state=RANDOM_STATE,  # Random state for reproducibility\n",
    "        scoring='roc_auc'  # Scoring metric to optimize\n",
    "    )"
   ]
  },
  {
   "cell_type": "code",
   "execution_count": null,
   "id": "137d2161",
   "metadata": {},
   "outputs": [],
   "source": [
    "# Iterate over each item in the 'opt' dictionary\n",
    "for model_name, model_opt in opt.items():\n",
    "    # Print the model name followed by a colon\n",
    "    print(model_name, end=': ')\n",
    "    \n",
    "    # Fit the model\n",
    "    model_opt.fit(X_train, y_train)\n",
    "    \n",
    "    # Get the best score achieved by the model during cross-validation\n",
    "    best_score = model_opt.best_score_\n",
    "    \n",
    "    # Print the best score\n",
    "    print(best_score)\n",
    "    \n",
    "    # Generate the filename for saving the trained model\n",
    "    model_filename = '../models/ml/' + model_name + '.joblib'\n",
    "    \n",
    "    # Save the best estimator to a file\n",
    "    dump(model_opt.best_estimator_, model_filename)"
   ]
  }
 ],
 "metadata": {
  "kernelspec": {
   "display_name": "Python 3 (ipykernel)",
   "language": "python",
   "name": "python3"
  },
  "language_info": {
   "codemirror_mode": {
    "name": "ipython",
    "version": 3
   },
   "file_extension": ".py",
   "mimetype": "text/x-python",
   "name": "python",
   "nbconvert_exporter": "python",
   "pygments_lexer": "ipython3",
   "version": "3.9.16"
  }
 },
 "nbformat": 4,
 "nbformat_minor": 5
}

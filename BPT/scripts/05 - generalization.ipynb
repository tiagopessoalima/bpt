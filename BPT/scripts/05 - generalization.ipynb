{
 "cells": [
  {
   "cell_type": "markdown",
   "id": "b5c0e0d0",
   "metadata": {},
   "source": [
    "# LIBRARIES"
   ]
  },
  {
   "cell_type": "code",
   "execution_count": null,
   "id": "8e8075fe",
   "metadata": {},
   "outputs": [],
   "source": [
    "import glob\n",
    "import seaborn as sns\n",
    "import joblib\n",
    "import matplotlib.pyplot as plt\n",
    "import pandas as pd\n",
    "from sklearn.metrics import confusion_matrix, roc_auc_score, roc_curve"
   ]
  },
  {
   "cell_type": "markdown",
   "id": "d15c2c21",
   "metadata": {},
   "source": [
    "# READ FILES"
   ]
  },
  {
   "cell_type": "code",
   "execution_count": null,
   "id": "f98a3bfc",
   "metadata": {},
   "outputs": [],
   "source": [
    "X_test = pd.read_csv('../dataset/X_test.csv', index_col=0)\n",
    "y_test = pd.read_csv('../dataset/y_test.csv', index_col=0)"
   ]
  },
  {
   "cell_type": "markdown",
   "id": "3bec9cb3",
   "metadata": {},
   "source": [
    "# READ MODELS"
   ]
  },
  {
   "cell_type": "code",
   "execution_count": null,
   "id": "9a14b658",
   "metadata": {},
   "outputs": [],
   "source": [
    "# Initialize the dictionary\n",
    "models = {}\n",
    "\n",
    "# Set the folder path\n",
    "folder_path = '../models/'\n",
    "\n",
    "# List all subdirectories in the folder\n",
    "subdirectories = [subdir for subdir in os.listdir(folder_path) if os.path.isdir(os.path.join(folder_path, subdir))]\n",
    "\n",
    "# Iterate over the subdirectories\n",
    "for subdir in subdirectories:\n",
    "    subdirectory_path = os.path.join(folder_path, subdir)\n",
    "    \n",
    "    # List all files in the subdirectory\n",
    "    files = os.listdir(subdirectory_path)\n",
    "    \n",
    "    # Iterate over the files\n",
    "    for file in files:\n",
    "        file_path = os.path.join(subdirectory_path, file)\n",
    "        \n",
    "        # Extract the file name without extension\n",
    "        model_name = os.path.splitext(file)[0]\n",
    "        \n",
    "        # Load the model using joblib.load and add it to the dictionary\n",
    "        models[model_name] = joblib.load(file_path)"
   ]
  },
  {
   "cell_type": "markdown",
   "id": "c3c4a7d7",
   "metadata": {},
   "source": [
    "# GENERALIZATION"
   ]
  },
  {
   "cell_type": "markdown",
   "id": "24724dc2",
   "metadata": {},
   "source": [
    "The confusion matrix is a table that summarizes the performance of a binary classification model by showing the number of true positive (TP), true negative (TN), false positive (FP), and false negative (FN) predictions on the test set."
   ]
  },
  {
   "cell_type": "markdown",
   "id": "6801bb9d",
   "metadata": {},
   "source": [
    "## Confusion Matrix"
   ]
  },
  {
   "cell_type": "code",
   "execution_count": null,
   "id": "aea9095e",
   "metadata": {},
   "outputs": [],
   "source": [
    "def plot_confusion_matrix(model_name):\n",
    "        \n",
    "    if model_name in ['TRACK','TRUST']:\n",
    "        X_test_model = X_test[model_name].values.reshape(-1, 1)\n",
    "    else:\n",
    "        X_test_model = X_test.drop(['TRACK','TRUST'],axis=1)\n",
    "        \n",
    "    # Select the model\n",
    "    model = models[model_name]\n",
    "    \n",
    "    # Make predictions on the test set\n",
    "    y_pred = model.predict(X_test_model)\n",
    "\n",
    "    # Calculate the confusion matrix\n",
    "    cm = confusion_matrix(y_test, y_pred)\n",
    "\n",
    "    # Plot the heatmap\n",
    "    sns.heatmap(cm, annot=True, fmt='g', cmap='Blues')\n",
    "    plt.xlabel('Predicted')\n",
    "    plt.ylabel('Actual')\n",
    "    plt.title(f'Heatmap of Confusion Matrix - {model_name}')\n",
    "    plt.show()"
   ]
  },
  {
   "cell_type": "code",
   "execution_count": null,
   "id": "4e6ddb0c",
   "metadata": {},
   "outputs": [],
   "source": [
    "plot_confusion_matrix('SVM')"
   ]
  },
  {
   "cell_type": "code",
   "execution_count": null,
   "id": "4da796c1",
   "metadata": {},
   "outputs": [],
   "source": [
    "plot_confusion_matrix('RF')"
   ]
  },
  {
   "cell_type": "code",
   "execution_count": null,
   "id": "998c8168",
   "metadata": {},
   "outputs": [],
   "source": [
    "plot_confusion_matrix('LR')"
   ]
  },
  {
   "cell_type": "code",
   "execution_count": null,
   "id": "abbc7eb6",
   "metadata": {},
   "outputs": [],
   "source": [
    "plot_confusion_matrix('MLP')"
   ]
  },
  {
   "cell_type": "code",
   "execution_count": null,
   "id": "25212cca",
   "metadata": {},
   "outputs": [],
   "source": [
    "plot_confusion_matrix('TRACK')"
   ]
  },
  {
   "cell_type": "code",
   "execution_count": null,
   "id": "3a2e39de",
   "metadata": {},
   "outputs": [],
   "source": [
    "plot_confusion_matrix('TRUST')"
   ]
  },
  {
   "cell_type": "markdown",
   "id": "ad44f74c",
   "metadata": {},
   "source": [
    "## ROC"
   ]
  },
  {
   "cell_type": "code",
   "execution_count": null,
   "id": "19bc44f5",
   "metadata": {},
   "outputs": [],
   "source": [
    "def plot_roc_curve(model_name):\n",
    "    \n",
    "    if model_name in ['TRACK','TRUST']:\n",
    "        X_test_model = X_test[model_name].values.reshape(-1, 1)\n",
    "    else:\n",
    "        X_test_model = X_test.drop(['TRACK','TRUST'],axis=1)\n",
    "        \n",
    "    model = models[model_name] \n",
    "    \n",
    "    probs = model.predict_proba(X_test_model)[:, 1]\n",
    "    fpr, tpr, thresholds = roc_curve(y_test, probs)\n",
    "    auc = roc_auc_score(y_test, probs)\n",
    "    plt.plot(fpr, tpr, label=f'ROC Curve (AUC={auc:.2f})')\n",
    "    plt.plot([0, 1], [0, 1], 'k--')\n",
    "    plt.xlabel('False Positive Rate')\n",
    "    plt.ylabel('True Positive Rate')\n",
    "    plt.legend()\n",
    "    plt.title('ROC Curve - ' + model_name)\n",
    "    plt.show()"
   ]
  },
  {
   "cell_type": "code",
   "execution_count": null,
   "id": "4d312a1b",
   "metadata": {},
   "outputs": [],
   "source": [
    "plot_roc_curve('SVM')"
   ]
  },
  {
   "cell_type": "code",
   "execution_count": null,
   "id": "a315f342",
   "metadata": {},
   "outputs": [],
   "source": [
    "plot_roc_curve('RF')"
   ]
  },
  {
   "cell_type": "code",
   "execution_count": null,
   "id": "ba88b432",
   "metadata": {},
   "outputs": [],
   "source": [
    "plot_roc_curve('LR')"
   ]
  },
  {
   "cell_type": "code",
   "execution_count": null,
   "id": "7d04eedc",
   "metadata": {},
   "outputs": [],
   "source": [
    "plot_roc_curve('MLP')"
   ]
  },
  {
   "cell_type": "code",
   "execution_count": null,
   "id": "55b13b6c",
   "metadata": {},
   "outputs": [],
   "source": [
    "plot_roc_curve('TRACK')"
   ]
  },
  {
   "cell_type": "code",
   "execution_count": null,
   "id": "a9ee2806",
   "metadata": {},
   "outputs": [],
   "source": [
    "plot_roc_curve('TRUST')"
   ]
  },
  {
   "cell_type": "code",
   "execution_count": null,
   "id": "897bcf4b",
   "metadata": {},
   "outputs": [],
   "source": []
  }
 ],
 "metadata": {
  "kernelspec": {
   "display_name": "Python 3 (ipykernel)",
   "language": "python",
   "name": "python3"
  },
  "language_info": {
   "codemirror_mode": {
    "name": "ipython",
    "version": 3
   },
   "file_extension": ".py",
   "mimetype": "text/x-python",
   "name": "python",
   "nbconvert_exporter": "python",
   "pygments_lexer": "ipython3",
   "version": "3.9.16"
  }
 },
 "nbformat": 4,
 "nbformat_minor": 5
}
